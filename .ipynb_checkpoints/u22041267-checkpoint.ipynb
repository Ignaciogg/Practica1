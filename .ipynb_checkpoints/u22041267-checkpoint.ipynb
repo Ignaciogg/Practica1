{
 "cells": [
  {
   "cell_type": "markdown",
   "id": "1e8bc0c9-bee5-4767-8dcf-c64885629066",
   "metadata": {},
   "source": [
    "<h1 style = \"text-align:center; front-size: 36px\"> Programación Concurrente y Distribuida </h1>\n",
    "<a href=\"https://github.com/Ignaciogg/Practicas-PCD\">\n",
    "    <img src=\"fotoperfil.jpg\" title = \"Ignacio Gil Garzón 22041267\" alt=\"Ignacio Gil Garzón 22041267\" width=\"100\" height=\"100\" style=\"float:left;vertical-align:centre\">\n",
    "    <img src=\"uemlogo.png\" title = \"M21\" alt=\"UE\" width=\"105\" height=\"105\" style=\"float:right;vertical-align:centre\">"
   ]
  },
  {
   "cell_type": "code",
   "execution_count": null,
   "id": "6d9dae36-1eac-40ab-ab8d-adf556d14749",
   "metadata": {},
   "outputs": [],
   "source": []
  }
 ],
 "metadata": {
  "kernelspec": {
   "display_name": "Python 3",
   "language": "python",
   "name": "python3"
  },
  "language_info": {
   "codemirror_mode": {
    "name": "ipython",
    "version": 3
   },
   "file_extension": ".py",
   "mimetype": "text/x-python",
   "name": "python",
   "nbconvert_exporter": "python",
   "pygments_lexer": "ipython3",
   "version": "3.8.8"
  }
 },
 "nbformat": 4,
 "nbformat_minor": 5
}
