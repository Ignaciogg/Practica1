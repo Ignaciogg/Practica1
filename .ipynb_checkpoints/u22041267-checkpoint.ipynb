{
 "cells": [
  {
   "cell_type": "markdown",
   "id": "1e8bc0c9-bee5-4767-8dcf-c64885629066",
   "metadata": {},
   "source": [
    "<h1 style = \"text-align:center; front-size: 36px\"> Programación Concurrente y Distribuida </h1>\n",
    "<a href=\"https://github.com/Ignaciogg/Practicas-PCD/tree/master\">\n",
    "    <img src=\"fotoperfil.jpg\" title = \"Ignacio Gil Garzón 22041267\" alt=\"Ignacio Gil Garzón 22041267\" width=\"100\" height=\"100\" style=\"float:left;vertical-align:centre\">\n",
    "    <img src=\"uemlogo.png\" title = \"M21\" alt=\"UE\" width=\"105\" height=\"105\" style=\"float:right;vertical-align:centre\">"
   ]
  },
  {
   "cell_type": "markdown",
   "id": "069fa7f5-0464-4373-942c-4748aae6c1f9",
   "metadata": {},
   "source": [
    "# Actividad Individual 1 - Memoria"
   ]
  },
  {
   "cell_type": "markdown",
   "id": "5f8b40ad-d416-435d-ae90-8e1e3ca6e2c9",
   "metadata": {},
   "source": [
    "En esta actividad manejaremos el programa Cliente-Servidor previamente enseñado por el profesor."
   ]
  },
  {
   "cell_type": "markdown",
   "id": "c3fb3943-d452-4cc5-ba1d-2fe811aa82c9",
   "metadata": {},
   "source": [
    "Nuestros objetivos serán:"
   ]
  },
  {
   "cell_type": "markdown",
   "id": "3a564a5a-77a5-40ee-817d-aada1e803906",
   "metadata": {},
   "source": [
    "a. Que el todos los clientes que se instancien puedan ingresar mediante el teclado la dirección ip y el puerto, para poder conectarse. 2 pto."
   ]
  },
  {
   "cell_type": "markdown",
   "id": "de36efe9-96c7-425b-918e-4235fcd3c024",
   "metadata": {},
   "source": [
    "b. Que cada vez que un cliente se conecte, este pueda y deba elegir un nickname, que será mostrado cada vez que escriba un texto. 2 pto."
   ]
  },
  {
   "cell_type": "markdown",
   "id": "35fb6704-4ee9-4c04-b77e-d832e689ed77",
   "metadata": {},
   "source": [
    "c. Que el servidor, imprima y muestre la lista de usuarios( nicknames)conectados al mismo(en ese instante).2pto."
   ]
  },
  {
   "cell_type": "markdown",
   "id": "7300e076-7c87-44b3-bc46-e0276a8c5e5c",
   "metadata": {},
   "source": [
    "d. Que el servidor almacene el historial de chat de todos los usuarios conectados durante la sesión y lo guarde en un archivo que se deberá llamar uvuestroExp.txt (u21535220AI1.txt) 4pto"
   ]
  },
  {
   "cell_type": "markdown",
   "id": "6096facd-c923-4673-8d8f-f9b4a9793562",
   "metadata": {},
   "source": [
    "## En el código subido a github usando git bash (en la rama master) adjunto mi solución. En los comentarios se podrán encontrar las soluciones a los objetivos propuestos:"
   ]
  },
  {
   "cell_type": "markdown",
   "id": "6e1da589-4070-4f3c-8e10-6f5bddfaf166",
   "metadata": {},
   "source": [
    "https://github.com/Ignaciogg/Practicas-PCD/tree/master"
   ]
  },
  {
   "cell_type": "code",
   "execution_count": null,
   "id": "09cd1b12-25fb-44c2-a445-08c4d002163e",
   "metadata": {},
   "outputs": [],
   "source": []
  }
 ],
 "metadata": {
  "kernelspec": {
   "display_name": "Python 3",
   "language": "python",
   "name": "python3"
  },
  "language_info": {
   "codemirror_mode": {
    "name": "ipython",
    "version": 3
   },
   "file_extension": ".py",
   "mimetype": "text/x-python",
   "name": "python",
   "nbconvert_exporter": "python",
   "pygments_lexer": "ipython3",
   "version": "3.8.8"
  }
 },
 "nbformat": 4,
 "nbformat_minor": 5
}
