{
 "cells": [
  {
   "cell_type": "markdown",
   "id": "d60e0a43-6314-4421-952c-86936f7d9684",
   "metadata": {},
   "source": [
    "# SEGUNDO PROGRAMA DE PYTHON - Ignacio Gil Garzón - 22041267"
   ]
  },
  {
   "cell_type": "markdown",
   "id": "19b490c6-f4dd-46a7-bd82-33340aa91ea9",
   "metadata": {},
   "source": [
    "## 1. ¿Cuántos cores tiene su equipo?"
   ]
  },
  {
   "cell_type": "code",
   "execution_count": 1,
   "id": "d7f030d6-fb25-4e13-a8ab-08774b262437",
   "metadata": {},
   "outputs": [],
   "source": [
    "import os"
   ]
  },
  {
   "cell_type": "code",
   "execution_count": 2,
   "id": "cb727639-2392-47ff-9e1f-230bc5b35ca2",
   "metadata": {},
   "outputs": [
    {
     "data": {
      "text/plain": [
       "8"
      ]
     },
     "execution_count": 2,
     "metadata": {},
     "output_type": "execute_result"
    }
   ],
   "source": [
    "os.cpu_count()"
   ]
  },
  {
   "cell_type": "markdown",
   "id": "c328bd95-c444-4648-94bc-9815e54772de",
   "metadata": {},
   "source": [
    "## 2. ¿Cuántos cores físicos tiene su equipo?"
   ]
  },
  {
   "cell_type": "code",
   "execution_count": 3,
   "id": "d659dc01-37a3-475c-a716-747850580c63",
   "metadata": {},
   "outputs": [
    {
     "name": "stdout",
     "output_type": "stream",
     "text": [
      "Mi equipo tiene 4.0 cores físicos.\n"
     ]
    }
   ],
   "source": [
    "print(\"Mi equipo tiene \"+ str(os.cpu_count()/2) + \" cores físicos.\")"
   ]
  },
  {
   "cell_type": "markdown",
   "id": "6dc8cb0b-0583-45cd-92d8-479368f37bd1",
   "metadata": {},
   "source": [
    "## 3. ¿Cuántos cores lógicos tiene su equipo?"
   ]
  },
  {
   "cell_type": "code",
   "execution_count": 4,
   "id": "db6840e9-13ca-4679-81c6-44f12bbb472f",
   "metadata": {},
   "outputs": [
    {
     "name": "stdout",
     "output_type": "stream",
     "text": [
      "Mi equipo tiene 8 cores lógicos.\n"
     ]
    }
   ],
   "source": [
    "print(\"Mi equipo tiene \"+ str(os.cpu_count()) + \" cores lógicos.\")"
   ]
  },
  {
   "cell_type": "markdown",
   "id": "ac178e1e-541b-416f-9beb-4753a0e81099",
   "metadata": {},
   "source": [
    "## 4. Cree una función con el objeto de mantener su cpu activa al menos 10s sin que haga nada"
   ]
  },
  {
   "cell_type": "code",
   "execution_count": 5,
   "id": "ab1be776-e2cd-4a67-858b-26d7e0057d15",
   "metadata": {
    "tags": []
   },
   "outputs": [],
   "source": [
    "def ten():\n",
    "    while True:\n",
    "        pass"
   ]
  },
  {
   "cell_type": "code",
   "execution_count": null,
   "id": "788f5a53-190e-45a2-af17-fcdfafa64836",
   "metadata": {
    "tags": []
   },
   "outputs": [],
   "source": []
  }
 ],
 "metadata": {
  "kernelspec": {
   "display_name": "Python 3",
   "language": "python",
   "name": "python3"
  },
  "language_info": {
   "codemirror_mode": {
    "name": "ipython",
    "version": 3
   },
   "file_extension": ".py",
   "mimetype": "text/x-python",
   "name": "python",
   "nbconvert_exporter": "python",
   "pygments_lexer": "ipython3",
   "version": "3.8.8"
  }
 },
 "nbformat": 4,
 "nbformat_minor": 5
}
