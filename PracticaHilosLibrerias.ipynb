{
 "cells": [
  {
   "cell_type": "markdown",
   "id": "d60e0a43-6314-4421-952c-86936f7d9684",
   "metadata": {},
   "source": [
    "# SEGUNDO PROGRAMA DE PYTHON - Ignacio Gil Garzón - 22041267"
   ]
  },
  {
   "cell_type": "markdown",
   "id": "19b490c6-f4dd-46a7-bd82-33340aa91ea9",
   "metadata": {},
   "source": [
    "## 1. ¿Cuántos cores tiene su equipo?"
   ]
  },
  {
   "cell_type": "code",
   "execution_count": 29,
   "id": "d7f030d6-fb25-4e13-a8ab-08774b262437",
   "metadata": {},
   "outputs": [],
   "source": [
    "import os"
   ]
  },
  {
   "cell_type": "code",
   "execution_count": 30,
   "id": "cb727639-2392-47ff-9e1f-230bc5b35ca2",
   "metadata": {},
   "outputs": [
    {
     "data": {
      "text/plain": [
       "8"
      ]
     },
     "execution_count": 30,
     "metadata": {},
     "output_type": "execute_result"
    }
   ],
   "source": [
    "os.cpu_count()"
   ]
  },
  {
   "cell_type": "markdown",
   "id": "c328bd95-c444-4648-94bc-9815e54772de",
   "metadata": {},
   "source": [
    "## 2. ¿Cuántos cores físicos tiene su equipo?"
   ]
  },
  {
   "cell_type": "code",
   "execution_count": 31,
   "id": "d659dc01-37a3-475c-a716-747850580c63",
   "metadata": {},
   "outputs": [
    {
     "name": "stdout",
     "output_type": "stream",
     "text": [
      "Mi equipo tiene 4.0 cores físicos.\n"
     ]
    }
   ],
   "source": [
    "print(\"Mi equipo tiene \"+ str(os.cpu_count()/2) + \" cores físicos.\")"
   ]
  },
  {
   "cell_type": "markdown",
   "id": "6dc8cb0b-0583-45cd-92d8-479368f37bd1",
   "metadata": {},
   "source": [
    "## 3. ¿Cuántos cores lógicos tiene su equipo?"
   ]
  },
  {
   "cell_type": "code",
   "execution_count": 32,
   "id": "db6840e9-13ca-4679-81c6-44f12bbb472f",
   "metadata": {},
   "outputs": [
    {
     "name": "stdout",
     "output_type": "stream",
     "text": [
      "Mi equipo tiene 8 cores lógicos.\n"
     ]
    }
   ],
   "source": [
    "print(\"Mi equipo tiene \"+ str(os.cpu_count()) + \" cores lógicos.\")"
   ]
  },
  {
   "cell_type": "markdown",
   "id": "ac178e1e-541b-416f-9beb-4753a0e81099",
   "metadata": {},
   "source": [
    "## 4. Cree una función con el objeto de mantener su cpu activa al menos 10s sin que haga nada"
   ]
  },
  {
   "cell_type": "code",
   "execution_count": 33,
   "id": "ab1be776-e2cd-4a67-858b-26d7e0057d15",
   "metadata": {
    "tags": []
   },
   "outputs": [],
   "source": [
    "def diez():\n",
    "    for i in ranfe(1000):\n",
    "        pass"
   ]
  },
  {
   "cell_type": "code",
   "execution_count": 34,
   "id": "788f5a53-190e-45a2-af17-fcdfafa64836",
   "metadata": {
    "tags": []
   },
   "outputs": [
    {
     "data": {
      "text/plain": [
       "9952"
      ]
     },
     "execution_count": 34,
     "metadata": {},
     "output_type": "execute_result"
    }
   ],
   "source": [
    "os.getpid()"
   ]
  },
  {
   "cell_type": "markdown",
   "id": "c1db7e5a-11fd-487b-a373-2cbe2afa25e6",
   "metadata": {},
   "source": [
    "## 5. ¿Qué versión de Python tienes instalada?"
   ]
  },
  {
   "cell_type": "code",
   "execution_count": 35,
   "id": "939b47e1-f659-4fc8-822d-3d25e2693dab",
   "metadata": {},
   "outputs": [],
   "source": [
    "import platform as pl"
   ]
  },
  {
   "cell_type": "code",
   "execution_count": 36,
   "id": "faeb077a-d062-4c25-8f2c-4b264945d351",
   "metadata": {},
   "outputs": [
    {
     "data": {
      "text/plain": [
       "'3.8.8'"
      ]
     },
     "execution_count": 36,
     "metadata": {},
     "output_type": "execute_result"
    }
   ],
   "source": [
    "pl.python_version()"
   ]
  },
  {
   "cell_type": "markdown",
   "id": "8a124cf0-9190-4475-8cf1-f0ff5c28c5eb",
   "metadata": {},
   "source": [
    "## 6. ¿El bus de su máquina es de 32 o 64 bits?"
   ]
  },
  {
   "cell_type": "code",
   "execution_count": 37,
   "id": "7b712b69-47d2-4a52-9c9f-a11a9d9acd90",
   "metadata": {},
   "outputs": [
    {
     "data": {
      "text/plain": [
       "('64bit', 'WindowsPE')"
      ]
     },
     "execution_count": 37,
     "metadata": {},
     "output_type": "execute_result"
    }
   ],
   "source": [
    "pl.architecture()"
   ]
  },
  {
   "cell_type": "markdown",
   "id": "4d931550-f6ba-4090-941f-cb1766da05fd",
   "metadata": {},
   "source": [
    "## 7. Cree una función que imprima del 0 al 9"
   ]
  },
  {
   "cell_type": "code",
   "execution_count": 43,
   "id": "d5de4de4-565b-41b1-9a71-4d4aadf8d3b2",
   "metadata": {},
   "outputs": [],
   "source": [
    "def fun():\n",
    "    for i in range(10):\n",
    "        print(i)"
   ]
  },
  {
   "cell_type": "markdown",
   "id": "8192f603-7cb8-421c-b355-2dbfa3888d82",
   "metadata": {},
   "source": [
    "## 8. Ejecute concurrentemente 20 veces la función "
   ]
  },
  {
   "cell_type": "code",
   "execution_count": 39,
   "id": "6906020c-5c6d-4a6b-97fd-6c5a5a2fa51f",
   "metadata": {},
   "outputs": [],
   "source": [
    "import threading as th"
   ]
  },
  {
   "cell_type": "code",
   "execution_count": 44,
   "id": "762a2beb-823f-40ff-a405-4c5b44948f22",
   "metadata": {},
   "outputs": [
    {
     "name": "stdout",
     "output_type": "stream",
     "text": [
      "0\n",
      "1\n",
      "2\n",
      "3\n",
      "4\n",
      "5\n",
      "6\n",
      "7\n",
      "8\n",
      "9\n"
     ]
    }
   ],
   "source": [
    "th.Thread(target=fun).start()"
   ]
  },
  {
   "cell_type": "code",
   "execution_count": 48,
   "id": "3d94d1fa-6657-4d58-8dba-fab52b97d127",
   "metadata": {
    "collapsed": true,
    "jupyter": {
     "outputs_hidden": true
    },
    "tags": []
   },
   "outputs": [
    {
     "name": "stdout",
     "output_type": "stream",
     "text": [
      "0\n",
      "1\n",
      "2\n",
      "3\n",
      "4\n",
      "5\n",
      "6\n",
      "7\n",
      "8\n",
      "9\n",
      "0\n",
      "1\n",
      "2\n",
      "3\n",
      "4\n",
      "5\n",
      "6\n",
      "7\n",
      "8\n",
      "9\n",
      "0\n",
      "1\n",
      "2\n",
      "3\n",
      "4\n",
      "5\n",
      "6\n",
      "7\n",
      "8\n",
      "9\n",
      "0\n",
      "1\n",
      "2\n",
      "3\n",
      "4\n",
      "5\n",
      "6\n",
      "7\n",
      "8\n",
      "9\n",
      "0\n",
      "1\n",
      "2\n",
      "3\n",
      "4\n",
      "5\n",
      "6\n",
      "7\n",
      "8\n",
      "9\n",
      "0\n",
      "1\n",
      "2\n",
      "3\n",
      "4\n",
      "5\n",
      "6\n",
      "7\n",
      "8\n",
      "9\n",
      "0\n",
      "1\n",
      "2\n",
      "3\n",
      "4\n",
      "5\n",
      "6\n",
      "7\n",
      "8\n",
      "9\n",
      "0\n",
      "1\n",
      "2\n",
      "3\n",
      "4\n",
      "5\n",
      "6\n",
      "7\n",
      "8\n",
      "9\n",
      "0\n",
      "1\n",
      "2\n",
      "3\n",
      "4\n",
      "5\n",
      "6\n",
      "7\n",
      "8\n",
      "9\n",
      "0\n",
      "1\n",
      "2\n",
      "3\n",
      "4\n",
      "5\n",
      "6\n",
      "7\n",
      "8\n",
      "9\n",
      "0\n",
      "1\n",
      "2\n",
      "3\n",
      "4\n",
      "5\n",
      "6\n",
      "7\n",
      "8\n",
      "9\n",
      "0\n",
      "1\n",
      "2\n",
      "3\n",
      "4\n",
      "5\n",
      "6\n",
      "7\n",
      "8\n",
      "9\n",
      "0\n",
      "1\n",
      "2\n",
      "3\n",
      "4\n",
      "5\n",
      "6\n",
      "7\n",
      "8\n",
      "9\n",
      "0\n",
      "1\n",
      "2\n",
      "3\n",
      "4\n",
      "5\n",
      "6\n",
      "7\n",
      "8\n",
      "9\n",
      "0\n",
      "1\n",
      "2\n",
      "3\n",
      "4\n",
      "5\n",
      "6\n",
      "7\n",
      "8\n",
      "9\n",
      "0\n",
      "1\n",
      "2\n",
      "3\n",
      "4\n",
      "5\n",
      "6\n",
      "7\n",
      "8\n",
      "9\n",
      "0\n",
      "1\n",
      "2\n",
      "3\n",
      "4\n",
      "5\n",
      "6\n",
      "7\n",
      "8\n",
      "9\n",
      "0\n",
      "1\n",
      "2\n",
      "3\n",
      "4\n",
      "5\n",
      "6\n",
      "7\n",
      "8\n",
      "9\n",
      "0\n",
      "1\n",
      "2\n",
      "3\n",
      "4\n",
      "5\n",
      "6\n",
      "7\n",
      "0\n",
      "1\n",
      "2\n",
      "3\n",
      "4\n",
      "5\n",
      "68\n",
      "9\n",
      "\n",
      "7\n",
      "8\n",
      "9\n"
     ]
    }
   ],
   "source": [
    "for i in range(20):\n",
    "    th.Thread(target=fun).start()"
   ]
  },
  {
   "cell_type": "markdown",
   "id": "02c01f28-ecb8-47a3-9041-2a45183b3bd1",
   "metadata": {},
   "source": [
    "## 9. ¿Cuántos hilos están activos?"
   ]
  },
  {
   "cell_type": "code",
   "execution_count": 49,
   "id": "abb07928-1fb2-47a9-a293-543601186f2f",
   "metadata": {},
   "outputs": [
    {
     "data": {
      "text/plain": [
       "5"
      ]
     },
     "execution_count": 49,
     "metadata": {},
     "output_type": "execute_result"
    }
   ],
   "source": [
    "th.active_count()"
   ]
  },
  {
   "cell_type": "markdown",
   "id": "40744d3b-7bb6-41fe-afe4-60b9b9c9bfb7",
   "metadata": {},
   "source": [
    "## 10. Imprima sus identificadores y matelos"
   ]
  },
  {
   "cell_type": "code",
   "execution_count": 50,
   "id": "b0329888-0dff-434a-8410-af271e73a87e",
   "metadata": {},
   "outputs": [
    {
     "data": {
      "text/plain": [
       "[<_MainThread(MainThread, started 8020)>,\n",
       " <Thread(Thread-4, started daemon 1508)>,\n",
       " <Heartbeat(Thread-5, started daemon 14000)>,\n",
       " <HistorySavingThread(IPythonHistorySavingThread, started 8352)>,\n",
       " <ParentPollerWindows(Thread-3, started daemon 9188)>]"
      ]
     },
     "execution_count": 50,
     "metadata": {},
     "output_type": "execute_result"
    }
   ],
   "source": [
    "th.enumerate()"
   ]
  },
  {
   "cell_type": "code",
   "execution_count": 1,
   "id": "3b0ec3e6-7bfa-49e2-aa9b-fe4766e27ca9",
   "metadata": {},
   "outputs": [],
   "source": [
    "from IPython import display"
   ]
  },
  {
   "cell_type": "code",
   "execution_count": 2,
   "id": "47565c98-9132-4b7c-822d-e41360892341",
   "metadata": {},
   "outputs": [
    {
     "data": {
      "image/png": "[encoded data removed]",
      "text/plain": [
       "<IPython.core.display.Image object>"
      ]
     },
     "execution_count": 2,
     "metadata": {},
     "output_type": "execute_result"
    }
   ],
   "source": [
    "display.Image(\"nucleos.PNG\")"
   ]
  },
  {
   "cell_type": "code",
   "execution_count": null,
   "id": "7f73cd00-c113-4bb4-8a84-f7772840b5ea",
   "metadata": {},
   "outputs": [],
   "source": []
  }
 ],
 "metadata": {
  "kernelspec": {
   "display_name": "Python 3",
   "language": "python",
   "name": "python3"
  },
  "language_info": {
   "codemirror_mode": {
    "name": "ipython",
    "version": 3
   },
   "file_extension": ".py",
   "mimetype": "text/x-python",
   "name": "python",
   "nbconvert_exporter": "python",
   "pygments_lexer": "ipython3",
   "version": "3.8.8"
  }
 },
 "nbformat": 4,
 "nbformat_minor": 5
}
