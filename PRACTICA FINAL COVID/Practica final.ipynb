{
 "cells": [
  {
   "cell_type": "markdown",
   "id": "7d928cf1-78ce-46ff-98ad-ee221667be6f",
   "metadata": {},
   "source": [
    "<center> <font size =\"10\" color=\"#de3831\">\n",
    "    <b> PROYECTO FINAL </b>\n",
    "</font> </center>"
   ]
  },
  {
   "cell_type": "markdown",
   "id": "f4f5defb-62ef-4f38-aea0-8c3cb20c3373",
   "metadata": {},
   "source": [
    "<center> <font size =\"5\" color=\"#ffffff\">\n",
    "    <b> Ignacio Gil Garzón - Grupo 1 </b>\n",
    "</font> </center>"
   ]
  },
  {
   "cell_type": "markdown",
   "id": "da25efd6-6cca-4fc1-b864-5929552e88d6",
   "metadata": {},
   "source": [
    "<a href=\"https://github.com/Ignaciogg/Practicas-PCD\">\n",
    "    <img src=\"fotoperfil.jpg\" title = \"Ignacio Gil Garzón 22041267\" alt=\"Ignacio Gil Garzón 22041267\" width=\"100\" height=\"100\" style=\"float:left;vertical-align:centre\">\n",
    "    <img src=\"uemlogo.png\" title = \"M21\" alt=\"UE\" width=\"105\" height=\"105\" style=\"float:right;vertical-align:centre\">"
   ]
  },
  {
   "cell_type": "code",
   "execution_count": 5,
   "id": "3c2b345b-db41-47d7-9574-5263f0a2d4f2",
   "metadata": {},
   "outputs": [
    {
     "name": "stdout",
     "output_type": "stream",
     "text": [
      "Collecting qrcode\n",
      "  Downloading qrcode-7.3.1.tar.gz (43 kB)\n",
      "Requirement already satisfied: colorama in c:\\users\\nacho\\anaconda3\\lib\\site-packages (from qrcode) (0.4.4)\n",
      "Building wheels for collected packages: qrcode\n",
      "  Building wheel for qrcode (setup.py): started\n",
      "  Building wheel for qrcode (setup.py): finished with status 'done'\n",
      "  Created wheel for qrcode: filename=qrcode-7.3.1-py3-none-any.whl size=40385 sha256=ac1ea48f49e2a8927b69d978b873bb838dc635a5ab361e4f7099713375114ec6\n",
      "  Stored in directory: c:\\users\\nacho\\appdata\\local\\pip\\cache\\wheels\\35\\fd\\04\\2768886c56207acee0d6dc6b9bd5d06dac63a810f0c0a42516\n",
      "Successfully built qrcode\n",
      "Installing collected packages: qrcode\n",
      "Successfully installed qrcode-7.3.1\n",
      "Note: you may need to restart the kernel to use updated packages.\n"
     ]
    }
   ],
   "source": [
    "pip install qrcode"
   ]
  },
  {
   "cell_type": "code",
   "execution_count": 1,
   "id": "fabe8462-a565-4b90-8a35-1af64de659f4",
   "metadata": {},
   "outputs": [],
   "source": [
    "import qrcode as qr"
   ]
  },
  {
   "cell_type": "code",
   "execution_count": 4,
   "id": "b5c3ab88-e281-4297-8ca5-23870675ac1a",
   "metadata": {},
   "outputs": [],
   "source": [
    "git = qr.make(\"https://github.com/Ignaciogg/Practicas-PCD\")"
   ]
  },
  {
   "cell_type": "code",
   "execution_count": 5,
   "id": "0edde1ad-c914-4748-8883-efe32749187c",
   "metadata": {},
   "outputs": [],
   "source": [
    "tel = qr.make(\"656557348\")"
   ]
  },
  {
   "cell_type": "code",
   "execution_count": 6,
   "id": "bc3e8c08-7a7a-444d-a77d-512e7abbbfcc",
   "metadata": {},
   "outputs": [],
   "source": [
    "git.save(\"ImagenQRgit.png\")"
   ]
  },
  {
   "cell_type": "code",
   "execution_count": 7,
   "id": "f700b51b-3aaa-4803-9b36-8b10812f5353",
   "metadata": {},
   "outputs": [
    {
     "name": "stdout",
     "output_type": "stream",
     "text": [
      "Collecting opencv-python\n",
      "  Downloading opencv_python-4.5.4.60-cp38-cp38-win_amd64.whl (35.1 MB)\n",
      "Requirement already satisfied: numpy>=1.17.3 in c:\\users\\nacho\\anaconda3\\lib\\site-packages (from opencv-python) (1.20.1)\n",
      "Installing collected packages: opencv-python\n",
      "Successfully installed opencv-python-4.5.4.60\n",
      "Note: you may need to restart the kernel to use updated packages.\n"
     ]
    }
   ],
   "source": [
    "pip install opencv-python"
   ]
  },
  {
   "cell_type": "code",
   "execution_count": 8,
   "id": "20cb8b89-e5ff-4563-8d05-6a02e3b8760d",
   "metadata": {},
   "outputs": [],
   "source": [
    "import cv2"
   ]
  },
  {
   "cell_type": "code",
   "execution_count": 11,
   "id": "a5d5a16d-efe3-4502-a725-efc3c59bfd63",
   "metadata": {},
   "outputs": [],
   "source": [
    "qr_img = cv2.imread(\"ImagenQRgit.png\")"
   ]
  },
  {
   "cell_type": "code",
   "execution_count": 14,
   "id": "79c84977-ce04-4d4a-be63-7fdee3f6fec5",
   "metadata": {},
   "outputs": [],
   "source": [
    "detector = cv2.QRCodeDetector()"
   ]
  },
  {
   "cell_type": "code",
   "execution_count": 16,
   "id": "d706b30e-aa32-40bb-aa78-f9cc4115bbe8",
   "metadata": {},
   "outputs": [],
   "source": [
    "texto, matriz, valores = detector.detectAndDecode(qr_img)"
   ]
  },
  {
   "cell_type": "code",
   "execution_count": 17,
   "id": "04d6c9cc-a26c-4a5e-9955-c62dac115d55",
   "metadata": {},
   "outputs": [
    {
     "data": {
      "text/plain": [
       "'https://github.com/Ignaciogg/Practicas-PCD'"
      ]
     },
     "execution_count": 17,
     "metadata": {},
     "output_type": "execute_result"
    }
   ],
   "source": [
    "texto"
   ]
  },
  {
   "cell_type": "code",
   "execution_count": 18,
   "id": "8d1543b1-43d0-4b23-9a98-07ba996cfbcf",
   "metadata": {},
   "outputs": [
    {
     "data": {
      "text/plain": [
       "array([[[ 40.,  40.],\n",
       "        [329.,  40.],\n",
       "        [329., 329.],\n",
       "        [ 40., 329.]]], dtype=float32)"
      ]
     },
     "execution_count": 18,
     "metadata": {},
     "output_type": "execute_result"
    }
   ],
   "source": [
    "matriz"
   ]
  },
  {
   "cell_type": "code",
   "execution_count": 19,
   "id": "4e1828e9-6daf-4e46-a3f5-fac3db55934d",
   "metadata": {},
   "outputs": [
    {
     "data": {
      "text/plain": [
       "array([[  0,   0,   0,   0,   0,   0,   0, 255, 255,   0, 255,   0, 255,\n",
       "        255,   0,   0, 255, 255,   0,   0, 255, 255,   0,   0,   0,   0,\n",
       "          0,   0,   0],\n",
       "       [  0, 255, 255, 255, 255, 255,   0, 255,   0,   0, 255,   0,   0,\n",
       "          0, 255,   0,   0,   0, 255,   0, 255, 255,   0, 255, 255, 255,\n",
       "        255, 255,   0],\n",
       "       [  0, 255,   0,   0,   0, 255,   0, 255, 255, 255,   0, 255, 255,\n",
       "        255, 255,   0,   0, 255, 255,   0, 255, 255,   0, 255,   0,   0,\n",
       "          0, 255,   0],\n",
       "       [  0, 255,   0,   0,   0, 255,   0, 255, 255, 255,   0, 255, 255,\n",
       "        255,   0,   0, 255, 255,   0, 255, 255, 255,   0, 255,   0,   0,\n",
       "          0, 255,   0],\n",
       "       [  0, 255,   0,   0,   0, 255,   0, 255,   0, 255,   0,   0,   0,\n",
       "        255, 255,   0, 255, 255,   0,   0, 255, 255,   0, 255,   0,   0,\n",
       "          0, 255,   0],\n",
       "       [  0, 255, 255, 255, 255, 255,   0, 255, 255,   0,   0,   0, 255,\n",
       "        255, 255,   0,   0, 255, 255,   0,   0, 255,   0, 255, 255, 255,\n",
       "        255, 255,   0],\n",
       "       [  0,   0,   0,   0,   0,   0,   0, 255,   0, 255,   0, 255,   0,\n",
       "        255,   0, 255,   0, 255,   0, 255,   0, 255,   0,   0,   0,   0,\n",
       "          0,   0,   0],\n",
       "       [255, 255, 255, 255, 255, 255, 255, 255, 255,   0,   0,   0, 255,\n",
       "          0,   0,   0, 255,   0,   0, 255,   0, 255, 255, 255, 255, 255,\n",
       "        255, 255, 255],\n",
       "       [  0, 255,   0, 255,   0, 255,   0, 255, 255, 255, 255,   0,   0,\n",
       "          0,   0,   0,   0,   0, 255, 255,   0, 255, 255, 255,   0, 255,\n",
       "        255,   0, 255],\n",
       "       [  0,   0, 255, 255,   0, 255, 255,   0, 255, 255,   0, 255, 255,\n",
       "        255, 255, 255,   0, 255, 255, 255,   0, 255,   0, 255, 255,   0,\n",
       "        255, 255,   0],\n",
       "       [  0, 255, 255, 255, 255, 255,   0,   0, 255, 255,   0,   0, 255,\n",
       "        255, 255, 255,   0, 255,   0, 255, 255,   0,   0, 255,   0, 255,\n",
       "          0,   0,   0],\n",
       "       [255,   0, 255, 255,   0, 255, 255,   0,   0,   0,   0,   0,   0,\n",
       "          0,   0,   0,   0,   0,   0,   0, 255, 255, 255,   0,   0, 255,\n",
       "        255,   0, 255],\n",
       "       [255,   0,   0,   0,   0,   0,   0, 255,   0,   0, 255,   0,   0,\n",
       "        255, 255, 255, 255,   0, 255,   0,   0,   0,   0, 255, 255,   0,\n",
       "        255,   0,   0],\n",
       "       [255,   0,   0, 255, 255,   0, 255, 255, 255,   0, 255,   0, 255,\n",
       "          0,   0, 255,   0, 255, 255,   0,   0,   0,   0, 255, 255,   0,\n",
       "        255, 255,   0],\n",
       "       [255,   0, 255, 255, 255, 255,   0,   0,   0,   0,   0, 255,   0,\n",
       "        255,   0, 255, 255,   0, 255, 255, 255, 255,   0, 255,   0,   0,\n",
       "        255,   0,   0],\n",
       "       [255,   0,   0, 255,   0,   0, 255,   0,   0,   0,   0,   0,   0,\n",
       "          0, 255, 255, 255,   0,   0, 255,   0,   0,   0, 255, 255,   0,\n",
       "        255,   0, 255],\n",
       "       [255,   0, 255,   0,   0,   0,   0, 255, 255,   0,   0, 255, 255,\n",
       "        255, 255, 255,   0,   0, 255,   0,   0, 255,   0,   0, 255,   0,\n",
       "        255,   0,   0],\n",
       "       [255,   0,   0, 255, 255,   0, 255,   0,   0,   0, 255,   0,   0,\n",
       "          0, 255, 255,   0,   0, 255, 255, 255,   0,   0, 255, 255,   0,\n",
       "          0, 255,   0],\n",
       "       [  0, 255, 255, 255,   0,   0,   0,   0, 255,   0,   0, 255, 255,\n",
       "          0,   0, 255, 255,   0, 255, 255, 255,   0, 255,   0,   0, 255,\n",
       "        255,   0,   0],\n",
       "       [255,   0, 255, 255,   0,   0, 255, 255,   0,   0,   0, 255, 255,\n",
       "          0,   0,   0, 255,   0,   0,   0,   0,   0,   0,   0,   0,   0,\n",
       "        255,   0, 255],\n",
       "       [  0, 255, 255,   0,   0, 255,   0,   0,   0,   0,   0, 255,   0,\n",
       "        255, 255, 255,   0,   0, 255,   0,   0,   0,   0,   0,   0, 255,\n",
       "        255, 255, 255],\n",
       "       [255, 255, 255, 255, 255, 255, 255, 255,   0, 255, 255,   0, 255,\n",
       "          0, 255, 255,   0,   0, 255,   0,   0, 255, 255, 255,   0, 255,\n",
       "          0,   0,   0],\n",
       "       [  0,   0,   0,   0,   0,   0,   0, 255, 255,   0, 255, 255, 255,\n",
       "        255, 255, 255,   0,   0, 255,   0,   0, 255,   0, 255,   0,   0,\n",
       "        255,   0,   0],\n",
       "       [  0, 255, 255, 255, 255, 255,   0, 255, 255,   0,   0, 255,   0,\n",
       "          0, 255, 255, 255,   0,   0, 255,   0, 255, 255, 255,   0,   0,\n",
       "        255,   0,   0],\n",
       "       [  0, 255,   0,   0,   0, 255,   0, 255,   0,   0,   0, 255, 255,\n",
       "        255,   0, 255, 255,   0,   0, 255,   0,   0,   0,   0,   0, 255,\n",
       "        255, 255, 255],\n",
       "       [  0, 255,   0,   0,   0, 255,   0, 255, 255,   0, 255, 255,   0,\n",
       "          0, 255, 255,   0, 255, 255, 255,   0, 255, 255,   0,   0, 255,\n",
       "          0,   0,   0],\n",
       "       [  0, 255,   0,   0,   0, 255,   0, 255,   0,   0, 255,   0,   0,\n",
       "        255, 255, 255,   0,   0, 255,   0, 255, 255, 255,   0,   0,   0,\n",
       "        255, 255,   0],\n",
       "       [  0, 255, 255, 255, 255, 255,   0, 255, 255, 255,   0,   0,   0,\n",
       "          0, 255,   0, 255,   0,   0,   0,   0,   0, 255, 255,   0, 255,\n",
       "        255,   0, 255],\n",
       "       [  0,   0,   0,   0,   0,   0,   0, 255,   0,   0, 255,   0, 255,\n",
       "          0,   0, 255, 255, 255, 255,   0,   0,   0, 255,   0,   0, 255,\n",
       "        255,   0,   0]], dtype=uint8)"
      ]
     },
     "execution_count": 19,
     "metadata": {},
     "output_type": "execute_result"
    }
   ],
   "source": [
    "valores"
   ]
  },
  {
   "cell_type": "code",
   "execution_count": 27,
   "id": "f970db61-c62f-4ec7-8313-6df6b7fcd82e",
   "metadata": {},
   "outputs": [],
   "source": [
    "qr_Christian = cv2.imread(\"PASAPORTE_COVID_recortado.png\")"
   ]
  },
  {
   "cell_type": "code",
   "execution_count": 28,
   "id": "ca943643-1618-4ffe-b892-5f79fc6cdba7",
   "metadata": {},
   "outputs": [],
   "source": [
    "texto2, matriz2, valores2 = detector.detectAndDecode(qr_Christian)"
   ]
  },
  {
   "cell_type": "code",
   "execution_count": 29,
   "id": "ea6fee15-78b4-47e6-b45e-bcfcdcadca67",
   "metadata": {},
   "outputs": [
    {
     "data": {
      "text/plain": [
       "''"
      ]
     },
     "execution_count": 29,
     "metadata": {},
     "output_type": "execute_result"
    }
   ],
   "source": [
    "texto2"
   ]
  },
  {
   "cell_type": "code",
   "execution_count": 30,
   "id": "3a435d31-abd0-4a2c-9eaf-5e0ab8e70f9d",
   "metadata": {},
   "outputs": [
    {
     "data": {
      "text/plain": [
       "array([[[  8.,  11.],\n",
       "        [129.,  11.],\n",
       "        [129., 132.],\n",
       "        [  8., 132.]]], dtype=float32)"
      ]
     },
     "execution_count": 30,
     "metadata": {},
     "output_type": "execute_result"
    }
   ],
   "source": [
    "matriz2"
   ]
  },
  {
   "cell_type": "code",
   "execution_count": 31,
   "id": "ba68b9c0-3a99-42e5-a8bf-1109f56a71fd",
   "metadata": {},
   "outputs": [],
   "source": [
    "qr2 = cv2.imread(\"qr2.png\")"
   ]
  },
  {
   "cell_type": "code",
   "execution_count": 32,
   "id": "0f90b7ae-b3b6-4923-81dd-5de9cd0f0dd5",
   "metadata": {},
   "outputs": [],
   "source": [
    "texto3, matriz3, valores3 = detector.detectAndDecode(qr2)"
   ]
  },
  {
   "cell_type": "code",
   "execution_count": 33,
   "id": "f6f735cd-4a54-42c9-ab69-c1ae10852bfa",
   "metadata": {},
   "outputs": [
    {
     "data": {
      "text/plain": [
       "'HC1:NCFOXN%TSMAHN-HXOCLGML-P8ZVHGJ-AH:TA1ROT$SD PL*IS2VF%GKG5/*E*71F/8X*G3M9JUPY0BZW4V/AY73CNN7J3J1H:43DAJBRNFG3CNBRI3CHG7KM0KLGJJ5C9-JE%7A6IA*$36IASD9YHILIIX2MELNKHKYIARGEX3E1.BLEE$JDM:C5H8QNL1FE1.B7I9 H9/.DV2MGDIR0MTDQVOCIL8-TIK*R3T3+7A.N88J4R$FBMA2 U6QS25P0QIRR97I2HOAAP9UY9VYCDEBD0HX2JR$4O1K8KES/F-1JZ.KELNZEG%12/9TL4T.B9 UP9C1-ZEN.HQCEFREGUA P1NV1K/U31AP8Q0OE+51QN1RNU.*U-51JFEKQU2:UWH9 UPRB8LTD1$AZWJYQ2%VLUHGG%5TW5A 6+O67N6F7E46WW%9Z4EM2PKAWMO9T.3NB1E7R0%K06N0%8/YM.QPMSD9IM28K/NS /K%TTVP5TPTT$CKTMS MKCHK+RO2W58ECQ568HX%A+YP8MAKL62QG'"
      ]
     },
     "execution_count": 33,
     "metadata": {},
     "output_type": "execute_result"
    }
   ],
   "source": [
    "texto3"
   ]
  },
  {
   "cell_type": "code",
   "execution_count": null,
   "id": "268211c8-fc12-4dcb-826e-db7da2fa86ab",
   "metadata": {},
   "outputs": [],
   "source": []
  }
 ],
 "metadata": {
  "kernelspec": {
   "display_name": "Python 3",
   "language": "python",
   "name": "python3"
  },
  "language_info": {
   "codemirror_mode": {
    "name": "ipython",
    "version": 3
   },
   "file_extension": ".py",
   "mimetype": "text/x-python",
   "name": "python",
   "nbconvert_exporter": "python",
   "pygments_lexer": "ipython3",
   "version": "3.8.8"
  }
 },
 "nbformat": 4,
 "nbformat_minor": 5
}
