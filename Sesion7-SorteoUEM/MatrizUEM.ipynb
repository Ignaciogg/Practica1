{
 "cells": [
  {
   "cell_type": "code",
   "execution_count": 6,
   "id": "f552345d-0615-4fb2-9fd8-19d3d59fcb94",
   "metadata": {},
   "outputs": [],
   "source": [
    "import os, multiprocessing as mp"
   ]
  },
  {
   "cell_type": "code",
   "execution_count": 7,
   "id": "cb5215f2-3dd4-4c6b-86d9-9e4cb04c4edc",
   "metadata": {},
   "outputs": [],
   "source": [
    "def PAR(a,b):\n",
    "    n_cores=os.cpu_count()\n",
    "    sieze_f = math.ceil(n_fila/n_cores)\n",
    "    size_c = math.ceil(n_cols_b/n_cores)\n",
    "    cores=[]\n",
    "    \n",
    "    for core in range(n_cores):\n",
    "        i_mc = min(core*size_f, n_fila)\n",
    "        f_mc = min ((core+1)*size_f, n_fila)\n",
    "        cores.append(mp.Process(target=PAR_CORE, args=()))\n",
    "        \n",
    "    for core in cores:\n",
    "        core.start()"
   ]
  },
  {
   "cell_type": "markdown",
   "id": "6062fc81-77c6-44a3-87d9-e9d696acae13",
   "metadata": {},
   "source": [
    "## Codigo Christian"
   ]
  },
  {
   "cell_type": "code",
   "execution_count": 1,
   "id": "aa5ac227-5150-46d8-8ce4-8be76000512a",
   "metadata": {},
   "outputs": [
    {
     "name": "stdout",
     "output_type": "stream",
     "text": [
      "\n",
      "\n",
      "Matriz  A y B se han multiplicado con exito en SECUENCIAL ha tardado  0.049001216888427734  y en PARALELO  0.6770474910736084\n"
     ]
    }
   ],
   "source": [
    "import random # Para generar num. aleatorios en la A y B \n",
    "import math\n",
    "import multiprocessing as mp  # Para trabajar en paralelo\n",
    "import time\n",
    "\n",
    "\n",
    "def sec_mult(A, B): # f() que calcula la mult. en secuencial, como toda la vida se ha hecho \n",
    "    C = [[0] * n_col_B for i in range(n_fil_A)] # Crear y poblar la matrix  C = A*B\n",
    "    for i in range(n_fil_A): # Hago la multiplicacion de AxB = C, i para iterar sobre las filas de A\n",
    "        for j in range(n_col_B): # j para iterar sobre las columnas de B\n",
    "            for k in range(n_col_A): # k para iterar en C\n",
    "                C[i][j] += A[i][k] * B[k][j] # Aqui se hace la multiplicación y guardo en C.\n",
    "    return C\n",
    "\n",
    "def par_mult(A, B): # f() que prepara el reparto de trabajo para la mult. en paralelo\n",
    "    n_cores = mp.cpu_count() # Obtengo los cores de mi pc\n",
    "    size_col = math.ceil(n_col_B/n_cores) # Columnas  a procesar x c/cpre, ver Excel adjunto\n",
    "    size_fil = math.ceil(n_fil_A/n_cores) # Filas a procesar x c/cpre, ver Excel adjunto\n",
    "    MC = mp.RawArray('i', n_fil_A * n_col_B) # Array MC de memoria compartida donde se almacenaran los resultados, ver excel adjunto\n",
    "    cores = [] # Array para guardar los cores y su trabajo\n",
    "    for core in range(n_cores):# Asigno a cada core el trabajo que le toca, ver excel adjunto\n",
    "        i_MC = min(core * size_fil, n_fil_A) # Calculo i para marcar inicio del trabajo del core en relacion a las filas\n",
    "        f_MC = min((core + 1) * size_fil, n_fil_A) # Calculo f para marcar fin del trabajo del core, ver excel\n",
    "        cores.append(mp.Process(target=par_core, args=(A, B, MC, i_MC, f_MC)))# Añado al Array los cores y su trabajo\n",
    "    for core in cores:\n",
    "        core.start()# Arranco y ejecuto el trabajo para c/ uno de los cores que tenga mi equipo, ver excel\n",
    "    # for core in cores:\n",
    "    #     core.join()# Bloqueo cualquier llamada hasta que terminen su trabajo todos los cores\n",
    "    C_2D = [[0] * n_col_B for i in range(n_fil_A)] # Convierto el array unidimensional MC en una matrix 2D (C_2D) \n",
    "    for i in range(n_fil_A):# i para iterar sobre las filas de A\n",
    "        for j in range(n_col_B):# j para iterar sobre las columnas de B\n",
    "            C_2D[i][j] = MC[i*n_col_B + j] # Guardo el C_2D los datos del array MC\n",
    "    return C_2D\n",
    "\n",
    "def par_core(A, B, MC, i_MC, f_MC): # La tarea que hacen todos los cores\n",
    "    for i in range(i_MC, f_MC): # Size representado en colores en el excel que itera sobre las filas en A\n",
    "        for j in range(len(B[0])): # Size representado en colores en el excel que itera sobre las columnas en B\n",
    "            for k in range(len(A[0])): # n_fil_B o lo que es l mismo el n_col_A\n",
    "                MC[i*len(B[0]) + j] += A[i][k] * B[k][j]# Guarda resultado en MC[] de cada core\n",
    "\n",
    "if __name__ == '__main__':\n",
    "    A = [[random.randint(0,9) for i in range(50)] for j in range(50)] # Genero A[21535220][6]con num. aleatorios del 0 al 215, ver excel\n",
    "    B = [[random.randint(0,9) for i in range(50)] for j in range(50)] # Genero B[6][21535220]con num. aleatorios del 0 al 215, ver excel\n",
    "    n_fil_A = len(A) # Obtengo num de filas de A \n",
    "    n_col_A = len(A[0]) # Obtengo num de colunmas de A \n",
    "    n_fil_B = len(B) # Obtengo num de filas de B\n",
    "    n_col_B = len(B[0]) # # Obtengo num de filas de B\n",
    "    if n_col_A != n_fil_B: raise Exception('Dimensiones no validas') # Compruebo que se puedan multiplicar A y B\n",
    "    inicioS = time.time()\n",
    "    sec_mult(A, B) # Ejecuto multiplicacion secuencial\n",
    "    finS = time.time()\n",
    "    inicioP = time.time()\n",
    "    par_mult(A, B) # Ejecuto multiplicacion paralela\n",
    "    finP = time.time()\n",
    "    print('\\n\\nMatriz  A y B se han multiplicado con exito en SECUENCIAL ha tardado ', finS-inicioS, ' y en PARALELO ', finP-inicioP)"
   ]
  },
  {
   "cell_type": "markdown",
   "id": "12975daa-1d97-4d0e-885b-6b964cb753c1",
   "metadata": {},
   "source": [
    "## Modificar el código de Christian para que sean alumnos de la UEM() y el rango de la matriz se pida por teclado"
   ]
  },
  {
   "cell_type": "code",
   "execution_count": 11,
   "id": "77c0d11e-22ab-4d0b-9428-371b10f3fe0d",
   "metadata": {},
   "outputs": [
    {
     "name": "stdin",
     "output_type": "stream",
     "text": [
      "Escribe n:  9\n",
      "Escribe m:  10\n"
     ]
    },
    {
     "ename": "Exception",
     "evalue": "Dimensiones no validas",
     "output_type": "error",
     "traceback": [
      "\u001b[1;31m---------------------------------------------------------------------------\u001b[0m",
      "\u001b[1;31mException\u001b[0m                                 Traceback (most recent call last)",
      "\u001b[1;32m<ipython-input-11-dacd9babf885>\u001b[0m in \u001b[0;36m<module>\u001b[1;34m\u001b[0m\n\u001b[0;32m     51\u001b[0m     \u001b[0mn_fil_B\u001b[0m \u001b[1;33m=\u001b[0m \u001b[0mlen\u001b[0m\u001b[1;33m(\u001b[0m\u001b[0mB\u001b[0m\u001b[1;33m)\u001b[0m \u001b[1;31m# Obtengo num de filas de B\u001b[0m\u001b[1;33m\u001b[0m\u001b[1;33m\u001b[0m\u001b[0m\n\u001b[0;32m     52\u001b[0m     \u001b[0mn_col_B\u001b[0m \u001b[1;33m=\u001b[0m \u001b[0mlen\u001b[0m\u001b[1;33m(\u001b[0m\u001b[0mB\u001b[0m\u001b[1;33m[\u001b[0m\u001b[1;36m0\u001b[0m\u001b[1;33m]\u001b[0m\u001b[1;33m)\u001b[0m \u001b[1;31m# # Obtengo num de filas de B\u001b[0m\u001b[1;33m\u001b[0m\u001b[1;33m\u001b[0m\u001b[0m\n\u001b[1;32m---> 53\u001b[1;33m     \u001b[1;32mif\u001b[0m \u001b[0mn_col_A\u001b[0m \u001b[1;33m!=\u001b[0m \u001b[0mn_fil_B\u001b[0m\u001b[1;33m:\u001b[0m \u001b[1;32mraise\u001b[0m \u001b[0mException\u001b[0m\u001b[1;33m(\u001b[0m\u001b[1;34m'Dimensiones no validas'\u001b[0m\u001b[1;33m)\u001b[0m \u001b[1;31m# Compruebo que se puedan multiplicar A y B\u001b[0m\u001b[1;33m\u001b[0m\u001b[1;33m\u001b[0m\u001b[0m\n\u001b[0m\u001b[0;32m     54\u001b[0m     \u001b[0minicioS\u001b[0m \u001b[1;33m=\u001b[0m \u001b[0mtime\u001b[0m\u001b[1;33m.\u001b[0m\u001b[0mtime\u001b[0m\u001b[1;33m(\u001b[0m\u001b[1;33m)\u001b[0m\u001b[1;33m\u001b[0m\u001b[1;33m\u001b[0m\u001b[0m\n\u001b[0;32m     55\u001b[0m     \u001b[0msec_mult\u001b[0m\u001b[1;33m(\u001b[0m\u001b[0mA\u001b[0m\u001b[1;33m,\u001b[0m \u001b[0mB\u001b[0m\u001b[1;33m)\u001b[0m \u001b[1;31m# Ejecuto multiplicacion secuencial\u001b[0m\u001b[1;33m\u001b[0m\u001b[1;33m\u001b[0m\u001b[0m\n",
      "\u001b[1;31mException\u001b[0m: Dimensiones no validas"
     ]
    }
   ],
   "source": [
    "import random # Para generar num. aleatorios en la A y B \n",
    "import math\n",
    "import multiprocessing as mp  # Para trabajar en paralelo\n",
    "import time\n",
    "\n",
    "\n",
    "def sec_mult(A, B): # f() que calcula la mult. en secuencial, como toda la vida se ha hecho \n",
    "    C = [[0] * n_col_B for i in range(n_fil_A)] # Crear y poblar la matrix  C = A*B\n",
    "    for i in range(n_fil_A): # Hago la multiplicacion de AxB = C, i para iterar sobre las filas de A\n",
    "        for j in range(n_col_B): # j para iterar sobre las columnas de B\n",
    "            for k in range(n_col_A): # k para iterar en C\n",
    "                C[i][j] += A[i][k] * B[k][j] # Aqui se hace la multiplicación y guardo en C.\n",
    "    return C\n",
    "\n",
    "def par_mult(A, B): # f() que prepara el reparto de trabajo para la mult. en paralelo\n",
    "    n_cores = mp.cpu_count() # Obtengo los cores de mi pc\n",
    "    size_col = math.ceil(n_col_B/n_cores) # Columnas  a procesar x c/cpre, ver Excel adjunto\n",
    "    size_fil = math.ceil(n_fil_A/n_cores) # Filas a procesar x c/cpre, ver Excel adjunto\n",
    "    MC = mp.RawArray('h', n_fil_A * n_col_B) # Array MC de memoria compartida donde se almacenaran los resultados, ver excel adjunto\n",
    "    cores = [] # Array para guardar los cores y su trabajo\n",
    "    for core in range(n_cores):# Asigno a cada core el trabajo que le toca, ver excel adjunto\n",
    "        i_MC = min(core * size_fil, n_fil_A) # Calculo i para marcar inicio del trabajo del core en relacion a las filas\n",
    "        f_MC = min((core + 1) * size_fil, n_fil_A) # Calculo f para marcar fin del trabajo del core, ver excel\n",
    "        cores.append(mp.Process(target=par_core, args=(A, B, MC, i_MC, f_MC)))# Añado al Array los cores y su trabajo\n",
    "    for core in cores:\n",
    "        core.start()# Arranco y ejecuto el trabajo para c/ uno de los cores que tenga mi equipo, ver excel\n",
    "    # for core in cores:\n",
    "    #     core.join()# Bloqueo cualquier llamada hasta que terminen su trabajo todos los cores\n",
    "    C_2D = [[0] * n_col_B for i in range(n_fil_A)] # Convierto el array unidimensional MC en una matrix 2D (C_2D) \n",
    "    for i in range(n_fil_A):# i para iterar sobre las filas de A\n",
    "        for j in range(n_col_B):# j para iterar sobre las columnas de B\n",
    "            C_2D[i][j] = MC[i*n_col_B + j] # Guardo el C_2D los datos del array MC\n",
    "    return C_2D\n",
    "\n",
    "def par_core(A, B, MC, i_MC, f_MC): # La tarea que hacen todos los cores\n",
    "    for i in range(i_MC, f_MC): # Size representado en colores en el excel que itera sobre las filas en A\n",
    "        for j in range(len(B[0])): # Size representado en colores en el excel que itera sobre las columnas en B\n",
    "            for k in range(len(A[0])): # n_fil_B o lo que es l mismo el n_col_A\n",
    "                MC[i*len(B[0]) + j] += A[i][k] * B[k][j]# Guarda resultado en MC[] de cada core\n",
    "\n",
    "if __name__ == '__main__':\n",
    "   \n",
    "    n = int(input(\"Escribe n: \"))\n",
    "    m = int(input(\"Escribe m: \"))\n",
    "   \n",
    "    A = [[random.randint(21_000_000, 22_999_999) for i in range(n)] for j in range(n)] # Genero A[21535220][6]con num. aleatorios del 0 al 215, ver excel\n",
    "    B = [[random.randint(21_000_000, 22_999_999) for i in range(m)] for j in range(m)] # Genero B[6][21535220]con num. aleatorios del 0 al 215, ver excel\n",
    "    \n",
    "    n_fil_A = len(A) # Obtengo num de filas de A \n",
    "    n_col_A = len(A[0]) # Obtengo num de colunmas de A \n",
    "    n_fil_B = len(B) # Obtengo num de filas de B\n",
    "    n_col_B = len(B[0]) # # Obtengo num de filas de B\n",
    "    if n_col_A != n_fil_B: raise Exception('Dimensiones no validas') # Compruebo que se puedan multiplicar A y B\n",
    "    inicioS = time.time()\n",
    "    sec_mult(A, B) # Ejecuto multiplicacion secuencial\n",
    "    finS = time.time()\n",
    "    inicioP = time.time()\n",
    "    par_mult(A, B) # Ejecuto multiplicacion paralela\n",
    "    finP = time.time()\n",
    "    print('\\n\\nMatriz  A y B se han multiplicado con exito en SECUENCIAL ha tardado ', finS-inicioS, ' y en PARALELO ', finP-inicioP)"
   ]
  },
  {
   "cell_type": "code",
   "execution_count": null,
   "id": "9eeb6ce6-12f0-48ec-9951-8a2b44cceda7",
   "metadata": {},
   "outputs": [],
   "source": []
  }
 ],
 "metadata": {
  "kernelspec": {
   "display_name": "Python 3",
   "language": "python",
   "name": "python3"
  },
  "language_info": {
   "codemirror_mode": {
    "name": "ipython",
    "version": 3
   },
   "file_extension": ".py",
   "mimetype": "text/x-python",
   "name": "python",
   "nbconvert_exporter": "python",
   "pygments_lexer": "ipython3",
   "version": "3.8.8"
  }
 },
 "nbformat": 4,
 "nbformat_minor": 5
}
