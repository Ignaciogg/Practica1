{
 "cells": [
  {
   "cell_type": "markdown",
   "id": "c0304c03-321c-4d3b-bc99-59ec8c86e731",
   "metadata": {},
   "source": [
    "<h1 style = \"text-align:center; front-size: 36px\"> Programación Concurrente y Distribuida </h1>\n",
    "<a href=\"https://github.com/Ignaciogg/Practicas-PCD\">\n",
    "    <img src=\"fotoperfil.jpg\" title = \"Ignacio Gil Garzón 22041267\" alt=\"Ignacio Gil Garzón 22041267\" width=\"100\" height=\"100\" style=\"float:left;vertical-align:centre\">\n",
    "    <img src=\"uemlogo.png\" title = \"M21\" alt=\"UE\" width=\"105\" height=\"105\" style=\"float:right;vertical-align:centre\">"
   ]
  },
  {
   "cell_type": "markdown",
   "id": "3eb6bed5-c03b-4c32-a4a8-81576b7134fc",
   "metadata": {},
   "source": [
    "# Páctica 4: Concurrencia con imágenes de diferentes sitios"
   ]
  },
  {
   "cell_type": "code",
   "execution_count": 29,
   "id": "b4c2e400-a4ae-430a-b695-6cb9cbc76dc4",
   "metadata": {},
   "outputs": [
    {
     "name": "stdout",
     "output_type": "stream",
     "text": [
      "https://storage.googleapis.com/christian_vladimir_sucuzhanay_bucket/pictures_videos/pic000.jpeg\n",
      "https://storage.googleapis.com/christian_vladimir_sucuzhanay_bucket/pictures_videos/pic001.jpeg\n",
      "https://storage.googleapis.com/christian_vladimir_sucuzhanay_bucket/pictures_videos/pic002.jpeg\n",
      "https://storage.googleapis.com/christian_vladimir_sucuzhanay_bucket/pictures_videos/pic003.jpeg\n",
      "https://storage.googleapis.com/christian_vladimir_sucuzhanay_bucket/pictures_videos/pic004.jpeg\n",
      "https://storage.googleapis.com/christian_vladimir_sucuzhanay_bucket/pictures_videos/pic005.jpeg\n",
      "https://storage.googleapis.com/christian_vladimir_sucuzhanay_bucket/pictures_videos/pic006.jpeg\n",
      "https://storage.googleapis.com/christian_vladimir_sucuzhanay_bucket/pictures_videos/pic007.jpeg\n",
      "https://storage.googleapis.com/christian_vladimir_sucuzhanay_bucket/pictures_videos/pic008.jpeg\n",
      "https://storage.googleapis.com/christian_vladimir_sucuzhanay_bucket/pictures_videos/pic009.jpeg\n"
     ]
    }
   ],
   "source": [
    "for i in range (0,10):\n",
    "    a = \"https://storage.googleapis.com/christian_vladimir_sucuzhanay_bucket/pictures_videos/pic00\"+str(i)+\".jpeg\"\n",
    "    print(a)"
   ]
  },
  {
   "cell_type": "code",
   "execution_count": 30,
   "id": "d6fd2d48-bbd0-49a8-8dbf-c96b9781e228",
   "metadata": {},
   "outputs": [],
   "source": [
    "pictures = []"
   ]
  },
  {
   "cell_type": "code",
   "execution_count": 31,
   "id": "be4037f1-cf21-4cf1-8b1b-f278014bc6c6",
   "metadata": {},
   "outputs": [],
   "source": [
    "for i in range (0,10):\n",
    "    a = \"https://storage.googleapis.com/christian_vladimir_sucuzhanay_bucket/pictures_videos/pic00\"+str(i)+\".jpeg\"\n",
    "    pictures.append(a)"
   ]
  },
  {
   "cell_type": "code",
   "execution_count": 32,
   "id": "2c9befd5-4eb9-4e12-adf8-e610da7c2aca",
   "metadata": {},
   "outputs": [
    {
     "data": {
      "text/plain": [
       "['https://storage.googleapis.com/christian_vladimir_sucuzhanay_bucket/pictures_videos/pic000.jpeg',\n",
       " 'https://storage.googleapis.com/christian_vladimir_sucuzhanay_bucket/pictures_videos/pic001.jpeg',\n",
       " 'https://storage.googleapis.com/christian_vladimir_sucuzhanay_bucket/pictures_videos/pic002.jpeg',\n",
       " 'https://storage.googleapis.com/christian_vladimir_sucuzhanay_bucket/pictures_videos/pic003.jpeg',\n",
       " 'https://storage.googleapis.com/christian_vladimir_sucuzhanay_bucket/pictures_videos/pic004.jpeg',\n",
       " 'https://storage.googleapis.com/christian_vladimir_sucuzhanay_bucket/pictures_videos/pic005.jpeg',\n",
       " 'https://storage.googleapis.com/christian_vladimir_sucuzhanay_bucket/pictures_videos/pic006.jpeg',\n",
       " 'https://storage.googleapis.com/christian_vladimir_sucuzhanay_bucket/pictures_videos/pic007.jpeg',\n",
       " 'https://storage.googleapis.com/christian_vladimir_sucuzhanay_bucket/pictures_videos/pic008.jpeg',\n",
       " 'https://storage.googleapis.com/christian_vladimir_sucuzhanay_bucket/pictures_videos/pic009.jpeg']"
      ]
     },
     "execution_count": 32,
     "metadata": {},
     "output_type": "execute_result"
    }
   ],
   "source": [
    "pictures"
   ]
  },
  {
   "cell_type": "markdown",
   "id": "ca3d2395-4ab7-45eb-896e-f94eb0c52c96",
   "metadata": {},
   "source": [
    "## urllib.request"
   ]
  },
  {
   "cell_type": "code",
   "execution_count": 34,
   "id": "3f98fc16-e95d-44a3-bc89-3ab1e6b01d08",
   "metadata": {},
   "outputs": [],
   "source": [
    "import requests, urllib"
   ]
  },
  {
   "cell_type": "code",
   "execution_count": null,
   "id": "12a39007-86c0-41d4-8c7c-ee679d3f6c9a",
   "metadata": {},
   "outputs": [],
   "source": [
    "def funcion():\n",
    "    for i in range (0,10):\n",
    "        "
   ]
  }
 ],
 "metadata": {
  "kernelspec": {
   "display_name": "Python 3",
   "language": "python",
   "name": "python3"
  },
  "language_info": {
   "codemirror_mode": {
    "name": "ipython",
    "version": 3
   },
   "file_extension": ".py",
   "mimetype": "text/x-python",
   "name": "python",
   "nbconvert_exporter": "python",
   "pygments_lexer": "ipython3",
   "version": "3.8.8"
  }
 },
 "nbformat": 4,
 "nbformat_minor": 5
}
